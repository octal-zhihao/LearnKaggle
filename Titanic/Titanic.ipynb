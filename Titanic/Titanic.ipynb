{
 "cells": [
  {
   "metadata": {},
   "cell_type": "markdown",
   "source": [
    "导入库和数据：\n",
    "\n",
    "从Kaggle下载Titanic数据集，并导入到我们的Python环境中。"
   ],
   "id": "5fb0a0e509f6fe7b"
  },
  {
   "metadata": {
    "ExecuteTime": {
     "end_time": "2024-07-02T03:06:32.865285Z",
     "start_time": "2024-07-02T03:06:32.856738Z"
    }
   },
   "cell_type": "code",
   "source": [
    "import pandas as pd\n",
    "import numpy as np\n",
    "from sklearn.model_selection import train_test_split\n",
    "from sklearn.preprocessing import StandardScaler\n",
    "from torch.utils.data import DataLoader, Dataset\n",
    "import torch\n",
    "import torch.nn as nn\n",
    "import pytorch_lightning as pl\n",
    "from pytorch_lightning.callbacks import EarlyStopping, ModelCheckpoint\n",
    "from pytorch_lightning.loggers import CSVLogger\n",
    "\n",
    "# 读取数据HousePrices\n",
    "train_data = pd.read_csv('train.csv')\n",
    "test_data = pd.read_csv('test.csv')\n"
   ],
   "id": "initial_id",
   "outputs": [],
   "execution_count": 50
  },
  {
   "metadata": {},
   "cell_type": "markdown",
   "source": [
    "数据探索和可视化：\n",
    "\n",
    "查看数据集的基本信息，了解各个特征。"
   ],
   "id": "dace095bcfb8e325"
  },
  {
   "metadata": {
    "ExecuteTime": {
     "end_time": "2024-07-02T03:06:32.906988Z",
     "start_time": "2024-07-02T03:06:32.886018Z"
    }
   },
   "cell_type": "code",
   "source": [
    "train_data.info()\n",
    "train_data.describe()\n",
    "train_data.head()"
   ],
   "id": "1239841d94ef0f5c",
   "outputs": [
    {
     "name": "stdout",
     "output_type": "stream",
     "text": [
      "<class 'pandas.core.frame.DataFrame'>\n",
      "RangeIndex: 891 entries, 0 to 890\n",
      "Data columns (total 12 columns):\n",
      " #   Column       Non-Null Count  Dtype  \n",
      "---  ------       --------------  -----  \n",
      " 0   PassengerId  891 non-null    int64  \n",
      " 1   Survived     891 non-null    int64  \n",
      " 2   Pclass       891 non-null    int64  \n",
      " 3   Name         891 non-null    object \n",
      " 4   Sex          891 non-null    object \n",
      " 5   Age          714 non-null    float64\n",
      " 6   SibSp        891 non-null    int64  \n",
      " 7   Parch        891 non-null    int64  \n",
      " 8   Ticket       891 non-null    object \n",
      " 9   Fare         891 non-null    float64\n",
      " 10  Cabin        204 non-null    object \n",
      " 11  Embarked     889 non-null    object \n",
      "dtypes: float64(2), int64(5), object(5)\n",
      "memory usage: 83.7+ KB\n"
     ]
    },
    {
     "data": {
      "text/plain": [
       "   PassengerId  Survived  Pclass  \\\n",
       "0            1         0       3   \n",
       "1            2         1       1   \n",
       "2            3         1       3   \n",
       "3            4         1       1   \n",
       "4            5         0       3   \n",
       "\n",
       "                                                Name     Sex   Age  SibSp  \\\n",
       "0                            Braund, Mr. Owen Harris    male  22.0      1   \n",
       "1  Cumings, Mrs. John Bradley (Florence Briggs Th...  female  38.0      1   \n",
       "2                             Heikkinen, Miss. Laina  female  26.0      0   \n",
       "3       Futrelle, Mrs. Jacques Heath (Lily May Peel)  female  35.0      1   \n",
       "4                           Allen, Mr. William Henry    male  35.0      0   \n",
       "\n",
       "   Parch            Ticket     Fare Cabin Embarked  \n",
       "0      0         A/5 21171   7.2500   NaN        S  \n",
       "1      0          PC 17599  71.2833   C85        C  \n",
       "2      0  STON/O2. 3101282   7.9250   NaN        S  \n",
       "3      0            113803  53.1000  C123        S  \n",
       "4      0            373450   8.0500   NaN        S  "
      ],
      "text/html": [
       "<div>\n",
       "<style scoped>\n",
       "    .dataframe tbody tr th:only-of-type {\n",
       "        vertical-align: middle;\n",
       "    }\n",
       "\n",
       "    .dataframe tbody tr th {\n",
       "        vertical-align: top;\n",
       "    }\n",
       "\n",
       "    .dataframe thead th {\n",
       "        text-align: right;\n",
       "    }\n",
       "</style>\n",
       "<table border=\"1\" class=\"dataframe\">\n",
       "  <thead>\n",
       "    <tr style=\"text-align: right;\">\n",
       "      <th></th>\n",
       "      <th>PassengerId</th>\n",
       "      <th>Survived</th>\n",
       "      <th>Pclass</th>\n",
       "      <th>Name</th>\n",
       "      <th>Sex</th>\n",
       "      <th>Age</th>\n",
       "      <th>SibSp</th>\n",
       "      <th>Parch</th>\n",
       "      <th>Ticket</th>\n",
       "      <th>Fare</th>\n",
       "      <th>Cabin</th>\n",
       "      <th>Embarked</th>\n",
       "    </tr>\n",
       "  </thead>\n",
       "  <tbody>\n",
       "    <tr>\n",
       "      <th>0</th>\n",
       "      <td>1</td>\n",
       "      <td>0</td>\n",
       "      <td>3</td>\n",
       "      <td>Braund, Mr. Owen Harris</td>\n",
       "      <td>male</td>\n",
       "      <td>22.0</td>\n",
       "      <td>1</td>\n",
       "      <td>0</td>\n",
       "      <td>A/5 21171</td>\n",
       "      <td>7.2500</td>\n",
       "      <td>NaN</td>\n",
       "      <td>S</td>\n",
       "    </tr>\n",
       "    <tr>\n",
       "      <th>1</th>\n",
       "      <td>2</td>\n",
       "      <td>1</td>\n",
       "      <td>1</td>\n",
       "      <td>Cumings, Mrs. John Bradley (Florence Briggs Th...</td>\n",
       "      <td>female</td>\n",
       "      <td>38.0</td>\n",
       "      <td>1</td>\n",
       "      <td>0</td>\n",
       "      <td>PC 17599</td>\n",
       "      <td>71.2833</td>\n",
       "      <td>C85</td>\n",
       "      <td>C</td>\n",
       "    </tr>\n",
       "    <tr>\n",
       "      <th>2</th>\n",
       "      <td>3</td>\n",
       "      <td>1</td>\n",
       "      <td>3</td>\n",
       "      <td>Heikkinen, Miss. Laina</td>\n",
       "      <td>female</td>\n",
       "      <td>26.0</td>\n",
       "      <td>0</td>\n",
       "      <td>0</td>\n",
       "      <td>STON/O2. 3101282</td>\n",
       "      <td>7.9250</td>\n",
       "      <td>NaN</td>\n",
       "      <td>S</td>\n",
       "    </tr>\n",
       "    <tr>\n",
       "      <th>3</th>\n",
       "      <td>4</td>\n",
       "      <td>1</td>\n",
       "      <td>1</td>\n",
       "      <td>Futrelle, Mrs. Jacques Heath (Lily May Peel)</td>\n",
       "      <td>female</td>\n",
       "      <td>35.0</td>\n",
       "      <td>1</td>\n",
       "      <td>0</td>\n",
       "      <td>113803</td>\n",
       "      <td>53.1000</td>\n",
       "      <td>C123</td>\n",
       "      <td>S</td>\n",
       "    </tr>\n",
       "    <tr>\n",
       "      <th>4</th>\n",
       "      <td>5</td>\n",
       "      <td>0</td>\n",
       "      <td>3</td>\n",
       "      <td>Allen, Mr. William Henry</td>\n",
       "      <td>male</td>\n",
       "      <td>35.0</td>\n",
       "      <td>0</td>\n",
       "      <td>0</td>\n",
       "      <td>373450</td>\n",
       "      <td>8.0500</td>\n",
       "      <td>NaN</td>\n",
       "      <td>S</td>\n",
       "    </tr>\n",
       "  </tbody>\n",
       "</table>\n",
       "</div>"
      ]
     },
     "execution_count": 51,
     "metadata": {},
     "output_type": "execute_result"
    }
   ],
   "execution_count": 51
  },
  {
   "metadata": {},
   "cell_type": "markdown",
   "source": "自定义Dataset类",
   "id": "fd78605d11f35011"
  },
  {
   "metadata": {
    "ExecuteTime": {
     "end_time": "2024-07-02T03:06:32.916661Z",
     "start_time": "2024-07-02T03:06:32.908997Z"
    }
   },
   "cell_type": "code",
   "source": [
    "class TitanicDataset(Dataset):\n",
    "    def __init__(self, data, scaler=None, train=True):\n",
    "        self.data = data\n",
    "        self.train = train\n",
    "        self.scaler = scaler\n",
    "        self.features = self._preprocess(data)\n",
    "\n",
    "    def _preprocess(self, data):\n",
    "        data['Age'].fillna(data['Age'].median(), inplace=True)\n",
    "        data['Embarked'].fillna(data['Embarked'].mode()[0], inplace=True)\n",
    "        data['Fare'].fillna(data['Fare'].median(), inplace=True)\n",
    "        data.drop(['Cabin', 'Ticket', 'Name'], axis=1, inplace=True)\n",
    "\n",
    "        data = pd.get_dummies(data, columns=['Sex', 'Embarked'], drop_first=True)\n",
    "\n",
    "        if self.train:\n",
    "            features = data.drop(['Survived', 'PassengerId'], axis=1).values\n",
    "        else:\n",
    "            features = data.drop(['PassengerId'], axis=1).values\n",
    "\n",
    "        if self.scaler:\n",
    "            features = self.scaler.transform(features)\n",
    "\n",
    "        return features\n",
    "\n",
    "    def __len__(self):\n",
    "        return len(self.features)\n",
    "\n",
    "    def __getitem__(self, idx):\n",
    "        if self.train:\n",
    "            label = self.data.iloc[idx]['Survived']\n",
    "            return torch.tensor(self.features[idx], dtype=torch.float32), torch.tensor(label, dtype=torch.float32)\n",
    "        else:\n",
    "            return torch.tensor(self.features[idx], dtype=torch.float32)\n"
   ],
   "id": "3f186187df03d7eb",
   "outputs": [],
   "execution_count": 52
  },
  {
   "metadata": {},
   "cell_type": "markdown",
   "source": "数据预处理和划分：",
   "id": "83096638e8c24ce9"
  },
  {
   "metadata": {
    "ExecuteTime": {
     "end_time": "2024-07-02T03:06:32.938796Z",
     "start_time": "2024-07-02T03:06:32.917667Z"
    }
   },
   "cell_type": "code",
   "source": [
    "# 合并训练和测试数据以确保相同的预处理\n",
    "all_data = pd.concat([train_data.drop(['Survived'], axis=1), test_data], ignore_index=True)\n",
    "\n",
    "# 标准化\n",
    "scaler = StandardScaler()\n",
    "scaler.fit(pd.get_dummies(all_data.drop(['PassengerId', 'Cabin', 'Ticket', 'Name'], axis=1), columns=['Sex', 'Embarked'], drop_first=True))\n",
    "\n",
    "# 创建训练和验证数据集\n",
    "train_dataset = TitanicDataset(train_data, scaler=scaler, train=True)\n",
    "train_loader = DataLoader(train_dataset, batch_size=32, shuffle=True)\n",
    "\n",
    "# 划分训练集和验证集\n",
    "train_indices, val_indices = train_test_split(list(range(len(train_dataset))), test_size=0.2, random_state=42)\n",
    "train_loader = DataLoader(train_dataset, batch_size=32, sampler=torch.utils.data.SubsetRandomSampler(train_indices))\n",
    "val_loader = DataLoader(train_dataset, batch_size=32, sampler=torch.utils.data.SubsetRandomSampler(val_indices))\n"
   ],
   "id": "33cf76460a7300eb",
   "outputs": [
    {
     "name": "stderr",
     "output_type": "stream",
     "text": [
      "E:\\Program Files\\anaconda3\\envs\\mylearn\\Lib\\site-packages\\sklearn\\base.py:493: UserWarning: X does not have valid feature names, but StandardScaler was fitted with feature names\n",
      "  warnings.warn(\n"
     ]
    }
   ],
   "execution_count": 53
  },
  {
   "metadata": {},
   "cell_type": "markdown",
   "source": [
    "定义模型：\n",
    "\n",
    "使用PyTorch Lightning定义模型。"
   ],
   "id": "1891c7e8d5ab5a5e"
  },
  {
   "metadata": {
    "ExecuteTime": {
     "end_time": "2024-07-02T03:06:32.947634Z",
     "start_time": "2024-07-02T03:06:32.939803Z"
    }
   },
   "cell_type": "code",
   "source": [
    "class TitanicModel(pl.LightningModule):\n",
    "    def __init__(self):\n",
    "        super(TitanicModel, self).__init__()\n",
    "        self.layer_1 = nn.Linear(8, 64)\n",
    "        self.layer_2 = nn.Linear(64, 32)\n",
    "        self.layer_3 = nn.Linear(32, 1)\n",
    "        self.relu = nn.ReLU()\n",
    "        self.sigmoid = nn.Sigmoid()\n",
    "        self.criterion = nn.BCELoss()\n",
    "\n",
    "    def forward(self, x):\n",
    "        x = self.relu(self.layer_1(x))\n",
    "        x = self.relu(self.layer_2(x))\n",
    "        x = self.sigmoid(self.layer_3(x))\n",
    "        return x\n",
    "\n",
    "    def training_step(self, batch, batch_idx):\n",
    "        x, y = batch\n",
    "        y_hat = self.forward(x)\n",
    "        loss = self.criterion(y_hat, y.unsqueeze(1))\n",
    "        self.log('train_loss', loss)\n",
    "        return loss\n",
    "\n",
    "    def validation_step(self, batch, batch_idx):\n",
    "        x, y = batch\n",
    "        y_hat = self.forward(x)\n",
    "        loss = self.criterion(y_hat, y.unsqueeze(1))\n",
    "        self.log('val_loss', loss)\n",
    "        return loss\n",
    "\n",
    "    def configure_optimizers(self):\n",
    "        optimizer = torch.optim.Adam(self.parameters(), lr=0.001)\n",
    "        return optimizer\n"
   ],
   "id": "6d4c73d88846ec5e",
   "outputs": [],
   "execution_count": 54
  },
  {
   "metadata": {},
   "cell_type": "markdown",
   "source": [
    "训练模型：\n",
    "\n",
    "使用PyTorch Lightning的Trainer进行训练。"
   ],
   "id": "83dd4108adf91ee9"
  },
  {
   "metadata": {
    "ExecuteTime": {
     "end_time": "2024-07-02T03:06:39.763694Z",
     "start_time": "2024-07-02T03:06:32.948647Z"
    }
   },
   "cell_type": "code",
   "source": [
    "early_stopping_callback = EarlyStopping(monitor='val_loss', mode='min', patience=15)\n",
    "checkpoint_callback = ModelCheckpoint(\n",
    "    monitor=\"val_loss\",\n",
    "    mode='min',\n",
    "    filename='TitanicModel-{epoch:02d}-{val_loss:.2f}',\n",
    "    save_top_k=1,\n",
    "    verbose=True\n",
    ")\n",
    "\n",
    "# 配置CSVLogger\n",
    "csv_logger = CSVLogger(save_dir='logs/', name='titanic')\n",
    "\n",
    "model = TitanicModel()\n",
    "\n",
    "trainer = Trainer(\n",
    "    max_epochs=50,\n",
    "    check_val_every_n_epoch=1,\n",
    "    logger=csv_logger,\n",
    "    callbacks=[early_stopping_callback, checkpoint_callback]\n",
    ")\n",
    "\n",
    "trainer.fit(model, train_loader, val_loader)\n",
    "\n",
    "# 加载最优模型\n",
    "best_model_path = checkpoint_callback.best_model_path\n",
    "best_model = TitanicModel.load_from_checkpoint(best_model_path)\n"
   ],
   "id": "2321b8ae862cfc3",
   "outputs": [
    {
     "name": "stderr",
     "output_type": "stream",
     "text": [
      "GPU available: False, used: False\n",
      "TPU available: False, using: 0 TPU cores\n",
      "IPU available: False, using: 0 IPUs\n",
      "HPU available: False, using: 0 HPUs\n",
      "Missing logger folder: logs/titanic\n",
      "\n",
      "  | Name      | Type    | Params\n",
      "--------------------------------------\n",
      "0 | layer_1   | Linear  | 576   \n",
      "1 | layer_2   | Linear  | 2.1 K \n",
      "2 | layer_3   | Linear  | 33    \n",
      "3 | relu      | ReLU    | 0     \n",
      "4 | sigmoid   | Sigmoid | 0     \n",
      "5 | criterion | BCELoss | 0     \n",
      "--------------------------------------\n",
      "2.7 K     Trainable params\n",
      "0         Non-trainable params\n",
      "2.7 K     Total params\n",
      "0.011     Total estimated model params size (MB)\n"
     ]
    },
    {
     "name": "stdout",
     "output_type": "stream",
     "text": [
      "                                                                            "
     ]
    },
    {
     "name": "stderr",
     "output_type": "stream",
     "text": [
      "E:\\Program Files\\anaconda3\\envs\\mylearn\\Lib\\site-packages\\pytorch_lightning\\trainer\\connectors\\data_connector.py:441: The 'val_dataloader' does not have many workers which may be a bottleneck. Consider increasing the value of the `num_workers` argument` to `num_workers=11` in the `DataLoader` to improve performance.\n",
      "E:\\Program Files\\anaconda3\\envs\\mylearn\\Lib\\site-packages\\pytorch_lightning\\trainer\\connectors\\data_connector.py:441: The 'train_dataloader' does not have many workers which may be a bottleneck. Consider increasing the value of the `num_workers` argument` to `num_workers=11` in the `DataLoader` to improve performance.\n",
      "E:\\Program Files\\anaconda3\\envs\\mylearn\\Lib\\site-packages\\pytorch_lightning\\loops\\fit_loop.py:298: The number of training batches (23) is smaller than the logging interval Trainer(log_every_n_steps=50). Set a lower value for log_every_n_steps if you want to see logs for the training epoch.\n"
     ]
    },
    {
     "name": "stdout",
     "output_type": "stream",
     "text": [
      "Epoch 0: 100%|██████████| 23/23 [00:00<00:00, 116.66it/s, v_num=0]\n",
      "Validation: |          | 0/? [00:00<?, ?it/s]\u001B[A\n",
      "Validation:   0%|          | 0/6 [00:00<?, ?it/s]\u001B[A\n",
      "Validation DataLoader 0:   0%|          | 0/6 [00:00<?, ?it/s]\u001B[A\n",
      "Validation DataLoader 0:  17%|█▋        | 1/6 [00:00<00:00, 160.39it/s]\u001B[A\n",
      "Validation DataLoader 0:  33%|███▎      | 2/6 [00:00<00:00, 151.12it/s]\u001B[A\n",
      "Validation DataLoader 0:  50%|█████     | 3/6 [00:00<00:00, 164.52it/s]\u001B[A\n",
      "Validation DataLoader 0:  67%|██████▋   | 4/6 [00:00<00:00, 158.51it/s]\u001B[A\n",
      "Validation DataLoader 0:  83%|████████▎ | 5/6 [00:00<00:00, 160.08it/s]\u001B[A\n",
      "Validation DataLoader 0: 100%|██████████| 6/6 [00:00<00:00, 161.14it/s]\u001B[A\n",
      "Epoch 0: 100%|██████████| 23/23 [00:00<00:00, 91.91it/s, v_num=0]      \u001B[A"
     ]
    },
    {
     "name": "stderr",
     "output_type": "stream",
     "text": [
      "Epoch 0, global step 23: 'val_loss' reached 0.63097 (best 0.63097), saving model to 'logs/titanic\\\\version_0\\\\checkpoints\\\\TitanicModel-epoch=00-val_loss=0.63.ckpt' as top 1\n"
     ]
    },
    {
     "name": "stdout",
     "output_type": "stream",
     "text": [
      "Epoch 1: 100%|██████████| 23/23 [00:00<00:00, 116.04it/s, v_num=0]\n",
      "Validation: |          | 0/? [00:00<?, ?it/s]\u001B[A\n",
      "Validation:   0%|          | 0/6 [00:00<?, ?it/s]\u001B[A\n",
      "Validation DataLoader 0:   0%|          | 0/6 [00:00<?, ?it/s]\u001B[A\n",
      "Validation DataLoader 0:  17%|█▋        | 1/6 [00:00<00:00, 150.85it/s]\u001B[A\n",
      "Validation DataLoader 0:  33%|███▎      | 2/6 [00:00<00:00, 145.84it/s]\u001B[A\n",
      "Validation DataLoader 0:  50%|█████     | 3/6 [00:00<00:00, 143.16it/s]\u001B[A\n",
      "Validation DataLoader 0:  67%|██████▋   | 4/6 [00:00<00:00, 138.17it/s]\u001B[A\n",
      "Validation DataLoader 0:  83%|████████▎ | 5/6 [00:00<00:00, 134.18it/s]\u001B[A\n",
      "Validation DataLoader 0: 100%|██████████| 6/6 [00:00<00:00, 141.97it/s]\u001B[A\n",
      "Epoch 1: 100%|██████████| 23/23 [00:00<00:00, 89.65it/s, v_num=0]      \u001B[A"
     ]
    },
    {
     "name": "stderr",
     "output_type": "stream",
     "text": [
      "Epoch 1, global step 46: 'val_loss' reached 0.55339 (best 0.55339), saving model to 'logs/titanic\\\\version_0\\\\checkpoints\\\\TitanicModel-epoch=01-val_loss=0.55.ckpt' as top 1\n"
     ]
    },
    {
     "name": "stdout",
     "output_type": "stream",
     "text": [
      "Epoch 2: 100%|██████████| 23/23 [00:00<00:00, 120.09it/s, v_num=0]\n",
      "Validation: |          | 0/? [00:00<?, ?it/s]\u001B[A\n",
      "Validation:   0%|          | 0/6 [00:00<?, ?it/s]\u001B[A\n",
      "Validation DataLoader 0:   0%|          | 0/6 [00:00<?, ?it/s]\u001B[A\n",
      "Validation DataLoader 0:  17%|█▋        | 1/6 [00:00<00:00, 178.47it/s]\u001B[A\n",
      "Validation DataLoader 0:  33%|███▎      | 2/6 [00:00<00:00, 164.72it/s]\u001B[A\n",
      "Validation DataLoader 0:  50%|█████     | 3/6 [00:00<00:00, 153.47it/s]\u001B[A\n",
      "Validation DataLoader 0:  67%|██████▋   | 4/6 [00:00<00:00, 149.82it/s]\u001B[A\n",
      "Validation DataLoader 0:  83%|████████▎ | 5/6 [00:00<00:00, 148.38it/s]\u001B[A\n",
      "Validation DataLoader 0: 100%|██████████| 6/6 [00:00<00:00, 149.89it/s]\u001B[A\n",
      "Epoch 2: 100%|██████████| 23/23 [00:00<00:00, 93.87it/s, v_num=0]      \u001B[A"
     ]
    },
    {
     "name": "stderr",
     "output_type": "stream",
     "text": [
      "Epoch 2, global step 69: 'val_loss' reached 0.47432 (best 0.47432), saving model to 'logs/titanic\\\\version_0\\\\checkpoints\\\\TitanicModel-epoch=02-val_loss=0.47.ckpt' as top 1\n"
     ]
    },
    {
     "name": "stdout",
     "output_type": "stream",
     "text": [
      "Epoch 3: 100%|██████████| 23/23 [00:00<00:00, 111.72it/s, v_num=0]\n",
      "Validation: |          | 0/? [00:00<?, ?it/s]\u001B[A\n",
      "Validation:   0%|          | 0/6 [00:00<?, ?it/s]\u001B[A\n",
      "Validation DataLoader 0:   0%|          | 0/6 [00:00<?, ?it/s]\u001B[A\n",
      "Validation DataLoader 0:  17%|█▋        | 1/6 [00:00<00:00, 166.66it/s]\u001B[A\n",
      "Validation DataLoader 0:  33%|███▎      | 2/6 [00:00<00:00, 166.65it/s]\u001B[A\n",
      "Validation DataLoader 0:  50%|█████     | 3/6 [00:00<00:00, 157.88it/s]\u001B[A\n",
      "Validation DataLoader 0:  67%|██████▋   | 4/6 [00:00<00:00, 148.11it/s]\u001B[A\n",
      "Validation DataLoader 0:  83%|████████▎ | 5/6 [00:00<00:00, 151.52it/s]\u001B[A\n",
      "Validation DataLoader 0: 100%|██████████| 6/6 [00:00<00:00, 153.83it/s]\u001B[A\n",
      "Epoch 3: 100%|██████████| 23/23 [00:00<00:00, 88.44it/s, v_num=0]      \u001B[A"
     ]
    },
    {
     "name": "stderr",
     "output_type": "stream",
     "text": [
      "Epoch 3, global step 92: 'val_loss' reached 0.43071 (best 0.43071), saving model to 'logs/titanic\\\\version_0\\\\checkpoints\\\\TitanicModel-epoch=03-val_loss=0.43.ckpt' as top 1\n"
     ]
    },
    {
     "name": "stdout",
     "output_type": "stream",
     "text": [
      "Epoch 4: 100%|██████████| 23/23 [00:00<00:00, 118.70it/s, v_num=0]\n",
      "Validation: |          | 0/? [00:00<?, ?it/s]\u001B[A\n",
      "Validation:   0%|          | 0/6 [00:00<?, ?it/s]\u001B[A\n",
      "Validation DataLoader 0:   0%|          | 0/6 [00:00<?, ?it/s]\u001B[A\n",
      "Validation DataLoader 0:  17%|█▋        | 1/6 [00:00<00:00, 163.83it/s]\u001B[A\n",
      "Validation DataLoader 0:  33%|███▎      | 2/6 [00:00<00:00, 141.80it/s]\u001B[A\n",
      "Validation DataLoader 0:  50%|█████     | 3/6 [00:00<00:00, 142.16it/s]\u001B[A\n",
      "Validation DataLoader 0:  67%|██████▋   | 4/6 [00:00<00:00, 132.88it/s]\u001B[A\n",
      "Validation DataLoader 0:  83%|████████▎ | 5/6 [00:00<00:00, 134.76it/s]\u001B[A\n",
      "Validation DataLoader 0: 100%|██████████| 6/6 [00:00<00:00, 139.20it/s]\u001B[A\n",
      "Epoch 4: 100%|██████████| 23/23 [00:00<00:00, 88.61it/s, v_num=0]      \u001B[A"
     ]
    },
    {
     "name": "stderr",
     "output_type": "stream",
     "text": [
      "Epoch 4, global step 115: 'val_loss' reached 0.41586 (best 0.41586), saving model to 'logs/titanic\\\\version_0\\\\checkpoints\\\\TitanicModel-epoch=04-val_loss=0.42.ckpt' as top 1\n"
     ]
    },
    {
     "name": "stdout",
     "output_type": "stream",
     "text": [
      "Epoch 5: 100%|██████████| 23/23 [00:00<00:00, 117.64it/s, v_num=0]\n",
      "Validation: |          | 0/? [00:00<?, ?it/s]\u001B[A\n",
      "Validation:   0%|          | 0/6 [00:00<?, ?it/s]\u001B[A\n",
      "Validation DataLoader 0:   0%|          | 0/6 [00:00<?, ?it/s]\u001B[A\n",
      "Validation DataLoader 0:  17%|█▋        | 1/6 [00:00<00:00, 198.11it/s]\u001B[A\n",
      "Validation DataLoader 0:  33%|███▎      | 2/6 [00:00<00:00, 181.10it/s]\u001B[A\n",
      "Validation DataLoader 0:  50%|█████     | 3/6 [00:00<00:00, 166.27it/s]\u001B[A\n",
      "Validation DataLoader 0:  67%|██████▋   | 4/6 [00:00<00:00, 161.43it/s]\u001B[A\n",
      "Validation DataLoader 0:  83%|████████▎ | 5/6 [00:00<00:00, 155.75it/s]\u001B[A\n",
      "Validation DataLoader 0: 100%|██████████| 6/6 [00:00<00:00, 161.69it/s]\u001B[A\n",
      "Epoch 5: 100%|██████████| 23/23 [00:00<00:00, 92.47it/s, v_num=0]      \u001B[A"
     ]
    },
    {
     "name": "stderr",
     "output_type": "stream",
     "text": [
      "Epoch 5, global step 138: 'val_loss' reached 0.40821 (best 0.40821), saving model to 'logs/titanic\\\\version_0\\\\checkpoints\\\\TitanicModel-epoch=05-val_loss=0.41.ckpt' as top 1\n"
     ]
    },
    {
     "name": "stdout",
     "output_type": "stream",
     "text": [
      "Epoch 6: 100%|██████████| 23/23 [00:00<00:00, 122.36it/s, v_num=0]\n",
      "Validation: |          | 0/? [00:00<?, ?it/s]\u001B[A\n",
      "Validation:   0%|          | 0/6 [00:00<?, ?it/s]\u001B[A\n",
      "Validation DataLoader 0:   0%|          | 0/6 [00:00<?, ?it/s]\u001B[A\n",
      "Validation DataLoader 0:  17%|█▋        | 1/6 [00:00<00:00, 142.86it/s]\u001B[A\n",
      "Validation DataLoader 0:  33%|███▎      | 2/6 [00:00<00:00, 153.85it/s]\u001B[A\n",
      "Validation DataLoader 0:  50%|█████     | 3/6 [00:00<00:00, 142.86it/s]\u001B[A\n",
      "Validation DataLoader 0:  67%|██████▋   | 4/6 [00:00<00:00, 148.15it/s]\u001B[A\n",
      "Validation DataLoader 0:  83%|████████▎ | 5/6 [00:00<00:00, 147.06it/s]\u001B[A\n",
      "Validation DataLoader 0: 100%|██████████| 6/6 [00:00<00:00, 146.34it/s]\u001B[A\n",
      "Epoch 6: 100%|██████████| 23/23 [00:00<00:00, 94.10it/s, v_num=0]      \u001B[A"
     ]
    },
    {
     "name": "stderr",
     "output_type": "stream",
     "text": [
      "Epoch 6, global step 161: 'val_loss' reached 0.40422 (best 0.40422), saving model to 'logs/titanic\\\\version_0\\\\checkpoints\\\\TitanicModel-epoch=06-val_loss=0.40.ckpt' as top 1\n"
     ]
    },
    {
     "name": "stdout",
     "output_type": "stream",
     "text": [
      "Epoch 7: 100%|██████████| 23/23 [00:00<00:00, 116.44it/s, v_num=0]\n",
      "Validation: |          | 0/? [00:00<?, ?it/s]\u001B[A\n",
      "Validation:   0%|          | 0/6 [00:00<?, ?it/s]\u001B[A\n",
      "Validation DataLoader 0:   0%|          | 0/6 [00:00<?, ?it/s]\u001B[A\n",
      "Validation DataLoader 0:  17%|█▋        | 1/6 [00:00<00:00, 166.64it/s]\u001B[A\n",
      "Validation DataLoader 0:  33%|███▎      | 2/6 [00:00<00:00, 163.25it/s]\u001B[A\n",
      "Validation DataLoader 0:  50%|█████     | 3/6 [00:00<00:00, 155.15it/s]\u001B[A\n",
      "Validation DataLoader 0:  67%|██████▋   | 4/6 [00:00<00:00, 151.89it/s]\u001B[A\n",
      "Validation DataLoader 0:  83%|████████▎ | 5/6 [00:00<00:00, 145.62it/s]\u001B[A\n",
      "Validation DataLoader 0: 100%|██████████| 6/6 [00:00<00:00, 148.75it/s]\u001B[A\n",
      "Epoch 7: 100%|██████████| 23/23 [00:00<00:00, 90.25it/s, v_num=0]      \u001B[A"
     ]
    },
    {
     "name": "stderr",
     "output_type": "stream",
     "text": [
      "Epoch 7, global step 184: 'val_loss' reached 0.39996 (best 0.39996), saving model to 'logs/titanic\\\\version_0\\\\checkpoints\\\\TitanicModel-epoch=07-val_loss=0.40.ckpt' as top 1\n"
     ]
    },
    {
     "name": "stdout",
     "output_type": "stream",
     "text": [
      "Epoch 8: 100%|██████████| 23/23 [00:00<00:00, 128.05it/s, v_num=0]\n",
      "Validation: |          | 0/? [00:00<?, ?it/s]\u001B[A\n",
      "Validation:   0%|          | 0/6 [00:00<?, ?it/s]\u001B[A\n",
      "Validation DataLoader 0:   0%|          | 0/6 [00:00<?, ?it/s]\u001B[A\n",
      "Validation DataLoader 0:  17%|█▋        | 1/6 [00:00<00:00, 166.80it/s]\u001B[A\n",
      "Validation DataLoader 0:  33%|███▎      | 2/6 [00:00<00:00, 153.90it/s]\u001B[A\n",
      "Validation DataLoader 0:  50%|█████     | 3/6 [00:00<00:00, 150.04it/s]\u001B[A\n",
      "Validation DataLoader 0:  67%|██████▋   | 4/6 [00:00<00:00, 148.17it/s]\u001B[A\n",
      "Validation DataLoader 0:  83%|████████▎ | 5/6 [00:00<00:00, 142.88it/s]\u001B[A\n",
      "Validation DataLoader 0: 100%|██████████| 6/6 [00:00<00:00, 142.87it/s]\u001B[A\n",
      "Epoch 8: 100%|██████████| 23/23 [00:00<00:00, 97.62it/s, v_num=0]      \u001B[A"
     ]
    },
    {
     "name": "stderr",
     "output_type": "stream",
     "text": [
      "Epoch 8, global step 207: 'val_loss' was not in top 1\n"
     ]
    },
    {
     "name": "stdout",
     "output_type": "stream",
     "text": [
      "Epoch 9: 100%|██████████| 23/23 [00:00<00:00, 124.22it/s, v_num=0]\n",
      "Validation: |          | 0/? [00:00<?, ?it/s]\u001B[A\n",
      "Validation:   0%|          | 0/6 [00:00<?, ?it/s]\u001B[A\n",
      "Validation DataLoader 0:   0%|          | 0/6 [00:00<?, ?it/s]\u001B[A\n",
      "Validation DataLoader 0:  17%|█▋        | 1/6 [00:00<00:00, 166.31it/s]\u001B[A\n",
      "Validation DataLoader 0:  33%|███▎      | 2/6 [00:00<00:00, 151.84it/s]\u001B[A\n",
      "Validation DataLoader 0:  50%|█████     | 3/6 [00:00<00:00, 145.00it/s]\u001B[A\n",
      "Validation DataLoader 0:  67%|██████▋   | 4/6 [00:00<00:00, 143.95it/s]\u001B[A\n",
      "Validation DataLoader 0:  83%|████████▎ | 5/6 [00:00<00:00, 145.62it/s]\u001B[A\n",
      "Validation DataLoader 0: 100%|██████████| 6/6 [00:00<00:00, 148.73it/s]\u001B[A\n",
      "Epoch 9: 100%|██████████| 23/23 [00:00<00:00, 95.24it/s, v_num=0]      \u001B[A"
     ]
    },
    {
     "name": "stderr",
     "output_type": "stream",
     "text": [
      "Epoch 9, global step 230: 'val_loss' reached 0.39896 (best 0.39896), saving model to 'logs/titanic\\\\version_0\\\\checkpoints\\\\TitanicModel-epoch=09-val_loss=0.40.ckpt' as top 1\n"
     ]
    },
    {
     "name": "stdout",
     "output_type": "stream",
     "text": [
      "Epoch 10: 100%|██████████| 23/23 [00:00<00:00, 120.17it/s, v_num=0]\n",
      "Validation: |          | 0/? [00:00<?, ?it/s]\u001B[A\n",
      "Validation:   0%|          | 0/6 [00:00<?, ?it/s]\u001B[A\n",
      "Validation DataLoader 0:   0%|          | 0/6 [00:00<?, ?it/s]\u001B[A\n",
      "Validation DataLoader 0:  17%|█▋        | 1/6 [00:00<00:00, 142.86it/s]\u001B[A\n",
      "Validation DataLoader 0:  33%|███▎      | 2/6 [00:00<00:00, 153.85it/s]\u001B[A\n",
      "Validation DataLoader 0:  50%|█████     | 3/6 [00:00<00:00, 150.00it/s]\u001B[A\n",
      "Validation DataLoader 0:  67%|██████▋   | 4/6 [00:00<00:00, 148.15it/s]\u001B[A\n",
      "Validation DataLoader 0:  83%|████████▎ | 5/6 [00:00<00:00, 147.04it/s]\u001B[A\n",
      "Validation DataLoader 0: 100%|██████████| 6/6 [00:00<00:00, 153.84it/s]\u001B[A\n",
      "Epoch 10: 100%|██████████| 23/23 [00:00<00:00, 93.65it/s, v_num=0]     \u001B[A"
     ]
    },
    {
     "name": "stderr",
     "output_type": "stream",
     "text": [
      "Epoch 10, global step 253: 'val_loss' was not in top 1\n"
     ]
    },
    {
     "name": "stdout",
     "output_type": "stream",
     "text": [
      "Epoch 11: 100%|██████████| 23/23 [00:00<00:00, 111.39it/s, v_num=0]\n",
      "Validation: |          | 0/? [00:00<?, ?it/s]\u001B[A\n",
      "Validation:   0%|          | 0/6 [00:00<?, ?it/s]\u001B[A\n",
      "Validation DataLoader 0:   0%|          | 0/6 [00:00<?, ?it/s]\u001B[A\n",
      "Validation DataLoader 0:  17%|█▋        | 1/6 [00:00<00:00, 130.18it/s]\u001B[A\n",
      "Validation DataLoader 0:  33%|███▎      | 2/6 [00:00<00:00, 136.21it/s]\u001B[A\n",
      "Validation DataLoader 0:  50%|█████     | 3/6 [00:00<00:00, 136.13it/s]\u001B[A\n",
      "Validation DataLoader 0:  67%|██████▋   | 4/6 [00:00<00:00, 133.18it/s]\u001B[A\n",
      "Validation DataLoader 0:  83%|████████▎ | 5/6 [00:00<00:00, 131.44it/s]\u001B[A\n",
      "Validation DataLoader 0: 100%|██████████| 6/6 [00:00<00:00, 129.56it/s]\u001B[A\n",
      "Epoch 11: 100%|██████████| 23/23 [00:00<00:00, 84.62it/s, v_num=0]     \u001B[A"
     ]
    },
    {
     "name": "stderr",
     "output_type": "stream",
     "text": [
      "Epoch 11, global step 276: 'val_loss' was not in top 1\n"
     ]
    },
    {
     "name": "stdout",
     "output_type": "stream",
     "text": [
      "Epoch 12: 100%|██████████| 23/23 [00:00<00:00, 99.19it/s, v_num=0] \n",
      "Validation: |          | 0/? [00:00<?, ?it/s]\u001B[A\n",
      "Validation:   0%|          | 0/6 [00:00<?, ?it/s]\u001B[A\n",
      "Validation DataLoader 0:   0%|          | 0/6 [00:00<?, ?it/s]\u001B[A\n",
      "Validation DataLoader 0:  17%|█▋        | 1/6 [00:00<00:00, 137.71it/s]\u001B[A\n",
      "Validation DataLoader 0:  33%|███▎      | 2/6 [00:00<00:00, 128.92it/s]\u001B[A\n",
      "Validation DataLoader 0:  50%|█████     | 3/6 [00:00<00:00, 121.77it/s]\u001B[A\n",
      "Validation DataLoader 0:  67%|██████▋   | 4/6 [00:00<00:00, 122.57it/s]\u001B[A\n",
      "Validation DataLoader 0:  83%|████████▎ | 5/6 [00:00<00:00, 120.52it/s]\u001B[A\n",
      "Validation DataLoader 0: 100%|██████████| 6/6 [00:00<00:00, 123.75it/s]\u001B[A\n",
      "Epoch 12: 100%|██████████| 23/23 [00:00<00:00, 76.57it/s, v_num=0]     \u001B[A"
     ]
    },
    {
     "name": "stderr",
     "output_type": "stream",
     "text": [
      "Epoch 12, global step 299: 'val_loss' was not in top 1\n"
     ]
    },
    {
     "name": "stdout",
     "output_type": "stream",
     "text": [
      "Epoch 13: 100%|██████████| 23/23 [00:00<00:00, 108.42it/s, v_num=0]\n",
      "Validation: |          | 0/? [00:00<?, ?it/s]\u001B[A\n",
      "Validation:   0%|          | 0/6 [00:00<?, ?it/s]\u001B[A\n",
      "Validation DataLoader 0:   0%|          | 0/6 [00:00<?, ?it/s]\u001B[A\n",
      "Validation DataLoader 0:  17%|█▋        | 1/6 [00:00<00:00, 142.71it/s]\u001B[A\n",
      "Validation DataLoader 0:  33%|███▎      | 2/6 [00:00<00:00, 142.78it/s]\u001B[A\n",
      "Validation DataLoader 0:  50%|█████     | 3/6 [00:00<00:00, 142.79it/s]\u001B[A\n",
      "Validation DataLoader 0:  67%|██████▋   | 4/6 [00:00<00:00, 136.62it/s]\u001B[A\n",
      "Validation DataLoader 0:  83%|████████▎ | 5/6 [00:00<00:00, 137.82it/s]\u001B[A\n",
      "Validation DataLoader 0: 100%|██████████| 6/6 [00:00<00:00, 138.56it/s]\u001B[A\n",
      "Epoch 13: 100%|██████████| 23/23 [00:00<00:00, 84.27it/s, v_num=0]     \u001B[A"
     ]
    },
    {
     "name": "stderr",
     "output_type": "stream",
     "text": [
      "Epoch 13, global step 322: 'val_loss' was not in top 1\n"
     ]
    },
    {
     "name": "stdout",
     "output_type": "stream",
     "text": [
      "Epoch 14: 100%|██████████| 23/23 [00:00<00:00, 110.75it/s, v_num=0]\n",
      "Validation: |          | 0/? [00:00<?, ?it/s]\u001B[A\n",
      "Validation:   0%|          | 0/6 [00:00<?, ?it/s]\u001B[A\n",
      "Validation DataLoader 0:   0%|          | 0/6 [00:00<?, ?it/s]\u001B[A\n",
      "Validation DataLoader 0:  17%|█▋        | 1/6 [00:00<00:00, 137.45it/s]\u001B[A\n",
      "Validation DataLoader 0:  33%|███▎      | 2/6 [00:00<00:00, 140.05it/s]\u001B[A\n",
      "Validation DataLoader 0:  50%|█████     | 3/6 [00:00<00:00, 140.97it/s]\u001B[A\n",
      "Validation DataLoader 0:  67%|██████▋   | 4/6 [00:00<00:00, 140.77it/s]\u001B[A\n",
      "Validation DataLoader 0:  83%|████████▎ | 5/6 [00:00<00:00, 140.10it/s]\u001B[A\n",
      "Validation DataLoader 0: 100%|██████████| 6/6 [00:00<00:00, 143.93it/s]\u001B[A\n",
      "Epoch 14: 100%|██████████| 23/23 [00:00<00:00, 87.28it/s, v_num=0]     \u001B[A"
     ]
    },
    {
     "name": "stderr",
     "output_type": "stream",
     "text": [
      "Epoch 14, global step 345: 'val_loss' was not in top 1\n"
     ]
    },
    {
     "name": "stdout",
     "output_type": "stream",
     "text": [
      "Epoch 15: 100%|██████████| 23/23 [00:00<00:00, 110.08it/s, v_num=0]\n",
      "Validation: |          | 0/? [00:00<?, ?it/s]\u001B[A\n",
      "Validation:   0%|          | 0/6 [00:00<?, ?it/s]\u001B[A\n",
      "Validation DataLoader 0:   0%|          | 0/6 [00:00<?, ?it/s]\u001B[A\n",
      "Validation DataLoader 0:  17%|█▋        | 1/6 [00:00<00:00, 163.80it/s]\u001B[A\n",
      "Validation DataLoader 0:  33%|███▎      | 2/6 [00:00<00:00, 152.61it/s]\u001B[A\n",
      "Validation DataLoader 0:  50%|█████     | 3/6 [00:00<00:00, 142.15it/s]\u001B[A\n",
      "Validation DataLoader 0:  67%|██████▋   | 4/6 [00:00<00:00, 137.43it/s]\u001B[A\n",
      "Validation DataLoader 0:  83%|████████▎ | 5/6 [00:00<00:00, 134.75it/s]\u001B[A\n",
      "Validation DataLoader 0: 100%|██████████| 6/6 [00:00<00:00, 139.19it/s]\u001B[A\n",
      "Epoch 15: 100%|██████████| 23/23 [00:00<00:00, 85.53it/s, v_num=0]     \u001B[A"
     ]
    },
    {
     "name": "stderr",
     "output_type": "stream",
     "text": [
      "Epoch 15, global step 368: 'val_loss' was not in top 1\n"
     ]
    },
    {
     "name": "stdout",
     "output_type": "stream",
     "text": [
      "Epoch 16: 100%|██████████| 23/23 [00:00<00:00, 111.67it/s, v_num=0]\n",
      "Validation: |          | 0/? [00:00<?, ?it/s]\u001B[A\n",
      "Validation:   0%|          | 0/6 [00:00<?, ?it/s]\u001B[A\n",
      "Validation DataLoader 0:   0%|          | 0/6 [00:00<?, ?it/s]\u001B[A\n",
      "Validation DataLoader 0:  17%|█▋        | 1/6 [00:00<00:00, 158.91it/s]\u001B[A\n",
      "Validation DataLoader 0:  33%|███▎      | 2/6 [00:00<00:00, 143.81it/s]\u001B[A\n",
      "Validation DataLoader 0:  50%|█████     | 3/6 [00:00<00:00, 136.94it/s]\u001B[A\n",
      "Validation DataLoader 0:  67%|██████▋   | 4/6 [00:00<00:00, 133.74it/s]\u001B[A\n",
      "Validation DataLoader 0:  83%|████████▎ | 5/6 [00:00<00:00, 135.47it/s]\u001B[A\n",
      "Validation DataLoader 0: 100%|██████████| 6/6 [00:00<00:00, 142.38it/s]\u001B[A\n",
      "Epoch 16: 100%|██████████| 23/23 [00:00<00:00, 86.78it/s, v_num=0]     \u001B[A"
     ]
    },
    {
     "name": "stderr",
     "output_type": "stream",
     "text": [
      "Epoch 16, global step 391: 'val_loss' was not in top 1\n"
     ]
    },
    {
     "name": "stdout",
     "output_type": "stream",
     "text": [
      "Epoch 17: 100%|██████████| 23/23 [00:00<00:00, 113.12it/s, v_num=0]\n",
      "Validation: |          | 0/? [00:00<?, ?it/s]\u001B[A\n",
      "Validation:   0%|          | 0/6 [00:00<?, ?it/s]\u001B[A\n",
      "Validation DataLoader 0:   0%|          | 0/6 [00:00<?, ?it/s]\u001B[A\n",
      "Validation DataLoader 0:  17%|█▋        | 1/6 [00:00<00:00, 142.86it/s]\u001B[A\n",
      "Validation DataLoader 0:  33%|███▎      | 2/6 [00:00<00:00, 142.86it/s]\u001B[A\n",
      "Validation DataLoader 0:  50%|█████     | 3/6 [00:00<00:00, 150.00it/s]\u001B[A\n",
      "Validation DataLoader 0:  67%|██████▋   | 4/6 [00:00<00:00, 153.84it/s]\u001B[A\n",
      "Validation DataLoader 0:  83%|████████▎ | 5/6 [00:00<00:00, 152.76it/s]\u001B[A\n",
      "Validation DataLoader 0: 100%|██████████| 6/6 [00:00<00:00, 154.89it/s]\u001B[A\n",
      "Epoch 17: 100%|██████████| 23/23 [00:00<00:00, 85.43it/s, v_num=0]     \u001B[A"
     ]
    },
    {
     "name": "stderr",
     "output_type": "stream",
     "text": [
      "Epoch 17, global step 414: 'val_loss' was not in top 1\n"
     ]
    },
    {
     "name": "stdout",
     "output_type": "stream",
     "text": [
      "Epoch 18: 100%|██████████| 23/23 [00:00<00:00, 114.85it/s, v_num=0]\n",
      "Validation: |          | 0/? [00:00<?, ?it/s]\u001B[A\n",
      "Validation:   0%|          | 0/6 [00:00<?, ?it/s]\u001B[A\n",
      "Validation DataLoader 0:   0%|          | 0/6 [00:00<?, ?it/s]\u001B[A\n",
      "Validation DataLoader 0:  17%|█▋        | 1/6 [00:00<00:00, 164.89it/s]\u001B[A\n",
      "Validation DataLoader 0:  33%|███▎      | 2/6 [00:00<00:00, 142.21it/s]\u001B[A\n",
      "Validation DataLoader 0:  50%|█████     | 3/6 [00:00<00:00, 135.99it/s]\u001B[A\n",
      "Validation DataLoader 0:  67%|██████▋   | 4/6 [00:00<00:00, 129.69it/s]\u001B[A\n",
      "Validation DataLoader 0:  83%|████████▎ | 5/6 [00:00<00:00, 132.13it/s]\u001B[A\n",
      "Validation DataLoader 0: 100%|██████████| 6/6 [00:00<00:00, 137.24it/s]\u001B[A\n",
      "Epoch 18: 100%|██████████| 23/23 [00:00<00:00, 88.27it/s, v_num=0]     \u001B[A"
     ]
    },
    {
     "name": "stderr",
     "output_type": "stream",
     "text": [
      "Epoch 18, global step 437: 'val_loss' was not in top 1\n"
     ]
    },
    {
     "name": "stdout",
     "output_type": "stream",
     "text": [
      "Epoch 19: 100%|██████████| 23/23 [00:00<00:00, 113.60it/s, v_num=0]\n",
      "Validation: |          | 0/? [00:00<?, ?it/s]\u001B[A\n",
      "Validation:   0%|          | 0/6 [00:00<?, ?it/s]\u001B[A\n",
      "Validation DataLoader 0:   0%|          | 0/6 [00:00<?, ?it/s]\u001B[A\n",
      "Validation DataLoader 0:  17%|█▋        | 1/6 [00:00<00:00, 166.67it/s]\u001B[A\n",
      "Validation DataLoader 0:  33%|███▎      | 2/6 [00:00<00:00, 153.83it/s]\u001B[A\n",
      "Validation DataLoader 0:  50%|█████     | 3/6 [00:00<00:00, 150.00it/s]\u001B[A\n",
      "Validation DataLoader 0:  67%|██████▋   | 4/6 [00:00<00:00, 146.20it/s]\u001B[A\n",
      "Validation DataLoader 0:  83%|████████▎ | 5/6 [00:00<00:00, 137.50it/s]\u001B[A\n",
      "Validation DataLoader 0: 100%|██████████| 6/6 [00:00<00:00, 141.62it/s]\u001B[A\n",
      "Epoch 19: 100%|██████████| 23/23 [00:00<00:00, 87.85it/s, v_num=0]     \u001B[A"
     ]
    },
    {
     "name": "stderr",
     "output_type": "stream",
     "text": [
      "Epoch 19, global step 460: 'val_loss' was not in top 1\n"
     ]
    },
    {
     "name": "stdout",
     "output_type": "stream",
     "text": [
      "Epoch 20: 100%|██████████| 23/23 [00:00<00:00, 112.66it/s, v_num=0]\n",
      "Validation: |          | 0/? [00:00<?, ?it/s]\u001B[A\n",
      "Validation:   0%|          | 0/6 [00:00<?, ?it/s]\u001B[A\n",
      "Validation DataLoader 0:   0%|          | 0/6 [00:00<?, ?it/s]\u001B[A\n",
      "Validation DataLoader 0:  17%|█▋        | 1/6 [00:00<00:00, 166.67it/s]\u001B[A\n",
      "Validation DataLoader 0:  33%|███▎      | 2/6 [00:00<00:00, 162.79it/s]\u001B[A\n",
      "Validation DataLoader 0:  50%|█████     | 3/6 [00:00<00:00, 151.77it/s]\u001B[A\n",
      "Validation DataLoader 0:  67%|██████▋   | 4/6 [00:00<00:00, 151.93it/s]\u001B[A\n",
      "Validation DataLoader 0:  83%|████████▎ | 5/6 [00:00<00:00, 154.66it/s]\u001B[A\n",
      "Validation DataLoader 0: 100%|██████████| 6/6 [00:00<00:00, 156.54it/s]\u001B[A\n",
      "Epoch 20: 100%|██████████| 23/23 [00:00<00:00, 88.73it/s, v_num=0]     \u001B[A"
     ]
    },
    {
     "name": "stderr",
     "output_type": "stream",
     "text": [
      "Epoch 20, global step 483: 'val_loss' was not in top 1\n"
     ]
    },
    {
     "name": "stdout",
     "output_type": "stream",
     "text": [
      "Epoch 21: 100%|██████████| 23/23 [00:00<00:00, 114.22it/s, v_num=0]\n",
      "Validation: |          | 0/? [00:00<?, ?it/s]\u001B[A\n",
      "Validation:   0%|          | 0/6 [00:00<?, ?it/s]\u001B[A\n",
      "Validation DataLoader 0:   0%|          | 0/6 [00:00<?, ?it/s]\u001B[A\n",
      "Validation DataLoader 0:  17%|█▋        | 1/6 [00:00<00:00, 166.58it/s]\u001B[A\n",
      "Validation DataLoader 0:  33%|███▎      | 2/6 [00:00<00:00, 149.71it/s]\u001B[A\n",
      "Validation DataLoader 0:  50%|█████     | 3/6 [00:00<00:00, 147.34it/s]\u001B[A\n",
      "Validation DataLoader 0:  67%|██████▋   | 4/6 [00:00<00:00, 146.20it/s]\u001B[A\n",
      "Validation DataLoader 0:  83%|████████▎ | 5/6 [00:00<00:00, 144.79it/s]\u001B[A\n",
      "Validation DataLoader 0: 100%|██████████| 6/6 [00:00<00:00, 148.02it/s]\u001B[A\n",
      "Epoch 21: 100%|██████████| 23/23 [00:00<00:00, 89.77it/s, v_num=0]     \u001B[A"
     ]
    },
    {
     "name": "stderr",
     "output_type": "stream",
     "text": [
      "Epoch 21, global step 506: 'val_loss' was not in top 1\n"
     ]
    },
    {
     "name": "stdout",
     "output_type": "stream",
     "text": [
      "Epoch 22: 100%|██████████| 23/23 [00:00<00:00, 114.60it/s, v_num=0]\n",
      "Validation: |          | 0/? [00:00<?, ?it/s]\u001B[A\n",
      "Validation:   0%|          | 0/6 [00:00<?, ?it/s]\u001B[A\n",
      "Validation DataLoader 0:   0%|          | 0/6 [00:00<?, ?it/s]\u001B[A\n",
      "Validation DataLoader 0:  17%|█▋        | 1/6 [00:00<00:00, 142.90it/s]\u001B[A\n",
      "Validation DataLoader 0:  33%|███▎      | 2/6 [00:00<00:00, 142.87it/s]\u001B[A\n",
      "Validation DataLoader 0:  50%|█████     | 3/6 [00:00<00:00, 150.01it/s]\u001B[A\n",
      "Validation DataLoader 0:  67%|██████▋   | 4/6 [00:00<00:00, 142.87it/s]\u001B[A\n",
      "Validation DataLoader 0:  83%|████████▎ | 5/6 [00:00<00:00, 135.14it/s]\u001B[A\n",
      "Validation DataLoader 0: 100%|██████████| 6/6 [00:00<00:00, 139.53it/s]\u001B[A\n",
      "Epoch 22: 100%|██████████| 23/23 [00:00<00:00, 88.57it/s, v_num=0]     \u001B[A"
     ]
    },
    {
     "name": "stderr",
     "output_type": "stream",
     "text": [
      "Epoch 22, global step 529: 'val_loss' was not in top 1\n"
     ]
    },
    {
     "name": "stdout",
     "output_type": "stream",
     "text": [
      "Epoch 23: 100%|██████████| 23/23 [00:00<00:00, 102.78it/s, v_num=0]\n",
      "Validation: |          | 0/? [00:00<?, ?it/s]\u001B[A\n",
      "Validation:   0%|          | 0/6 [00:00<?, ?it/s]\u001B[A\n",
      "Validation DataLoader 0:   0%|          | 0/6 [00:00<?, ?it/s]\u001B[A\n",
      "Validation DataLoader 0:  17%|█▋        | 1/6 [00:00<00:00, 166.67it/s]\u001B[A\n",
      "Validation DataLoader 0:  33%|███▎      | 2/6 [00:00<00:00, 133.33it/s]\u001B[A\n",
      "Validation DataLoader 0:  50%|█████     | 3/6 [00:00<00:00, 125.00it/s]\u001B[A\n",
      "Validation DataLoader 0:  67%|██████▋   | 4/6 [00:00<00:00, 124.99it/s]\u001B[A\n",
      "Validation DataLoader 0:  83%|████████▎ | 5/6 [00:00<00:00, 123.28it/s]\u001B[A\n",
      "Validation DataLoader 0: 100%|██████████| 6/6 [00:00<00:00, 123.54it/s]\u001B[A\n",
      "Epoch 23: 100%|██████████| 23/23 [00:00<00:00, 78.89it/s, v_num=0]     \u001B[A"
     ]
    },
    {
     "name": "stderr",
     "output_type": "stream",
     "text": [
      "Epoch 23, global step 552: 'val_loss' was not in top 1\n"
     ]
    },
    {
     "name": "stdout",
     "output_type": "stream",
     "text": [
      "Epoch 24: 100%|██████████| 23/23 [00:00<00:00, 99.03it/s, v_num=0] \n",
      "Validation: |          | 0/? [00:00<?, ?it/s]\u001B[A\n",
      "Validation:   0%|          | 0/6 [00:00<?, ?it/s]\u001B[A\n",
      "Validation DataLoader 0:   0%|          | 0/6 [00:00<?, ?it/s]\u001B[A\n",
      "Validation DataLoader 0:  17%|█▋        | 1/6 [00:00<00:00, 124.83it/s]\u001B[A\n",
      "Validation DataLoader 0:  33%|███▎      | 2/6 [00:00<00:00, 109.47it/s]\u001B[A\n",
      "Validation DataLoader 0:  50%|█████     | 3/6 [00:00<00:00, 106.10it/s]\u001B[A\n",
      "Validation DataLoader 0:  67%|██████▋   | 4/6 [00:00<00:00, 99.81it/s] \u001B[A\n",
      "Validation DataLoader 0:  83%|████████▎ | 5/6 [00:00<00:00, 101.07it/s]\u001B[A\n",
      "Validation DataLoader 0: 100%|██████████| 6/6 [00:00<00:00, 102.59it/s]\u001B[A\n",
      "Epoch 24: 100%|██████████| 23/23 [00:00<00:00, 73.67it/s, v_num=0]     \u001B[A"
     ]
    },
    {
     "name": "stderr",
     "output_type": "stream",
     "text": [
      "Epoch 24, global step 575: 'val_loss' was not in top 1\n"
     ]
    },
    {
     "name": "stdout",
     "output_type": "stream",
     "text": [
      "Epoch 24: 100%|██████████| 23/23 [00:00<00:00, 72.29it/s, v_num=0]\n"
     ]
    }
   ],
   "execution_count": 55
  },
  {
   "metadata": {},
   "cell_type": "markdown",
   "source": [
    "对测试数据进行预测：\n",
    "\n",
    "同样的预处理步骤，然后用训练好的模型进行预测。"
   ],
   "id": "26e2c78beb8b2793"
  },
  {
   "metadata": {
    "ExecuteTime": {
     "end_time": "2024-07-02T03:06:39.798969Z",
     "start_time": "2024-07-02T03:06:39.765711Z"
    }
   },
   "cell_type": "code",
   "source": [
    "# 创建测试数据集\n",
    "test_dataset = TitanicDataset(test_data, scaler=scaler, train=False)\n",
    "test_loader = DataLoader(test_dataset, batch_size=32, shuffle=False)\n",
    "\n",
    "# 预测\n",
    "best_model.eval()\n",
    "test_pred = []\n",
    "with torch.no_grad():\n",
    "    for batch in test_loader:\n",
    "        preds = best_model(batch)\n",
    "        preds = (preds.numpy() > 0.5).astype(int)\n",
    "        test_pred.extend(preds)\n",
    "\n",
    "# 保存预测结果\n",
    "submission = pd.DataFrame({'PassengerId': test_data['PassengerId'], 'Survived': np.array(test_pred).ravel()})\n",
    "submission.to_csv('submission.csv', index=False)\n"
   ],
   "id": "a242e6e39c1344ed",
   "outputs": [
    {
     "name": "stderr",
     "output_type": "stream",
     "text": [
      "E:\\Program Files\\anaconda3\\envs\\mylearn\\Lib\\site-packages\\sklearn\\base.py:493: UserWarning: X does not have valid feature names, but StandardScaler was fitted with feature names\n",
      "  warnings.warn(\n"
     ]
    }
   ],
   "execution_count": 56
  },
  {
   "metadata": {
    "ExecuteTime": {
     "end_time": "2024-07-02T03:06:39.804071Z",
     "start_time": "2024-07-02T03:06:39.799978Z"
    }
   },
   "cell_type": "code",
   "source": "",
   "id": "2c94c4b6030a66b7",
   "outputs": [],
   "execution_count": 56
  }
 ],
 "metadata": {
  "kernelspec": {
   "display_name": "mylearn",
   "language": "python",
   "name": "mylearn"
  },
  "language_info": {
   "codemirror_mode": {
    "name": "ipython",
    "version": 2
   },
   "file_extension": ".py",
   "mimetype": "text/x-python",
   "name": "python",
   "nbconvert_exporter": "python",
   "pygments_lexer": "ipython2",
   "version": "2.7.6"
  }
 },
 "nbformat": 4,
 "nbformat_minor": 5
}
